{
 "cells": [
  {
   "cell_type": "markdown",
   "metadata": {},
   "source": [
    "### 环境介绍：\n",
    "\n",
    "- 系统：macOS Sirra版本10.12.1\n",
    "- Python的版本：Python3.6\n",
    "- API：心知天气V3.0\n",
    "\n",
    "\n",
    "\n",
    "### API是什么？ \n",
    "应用程序接口，又称为应用编程接口。 \n",
    "就是软件系统不同组成部分衔接的约定。\n",
    "\n",
    "\n",
    "### Requests\n",
    "- Requests 是什么？ \n",
    "一个数据包，接入API功能。\n",
    "\n",
    "Requests中文文档:http://docs.python-requests.org/zh_CN/latest/index.html\n",
    "\n",
    "- 安装 requests\n",
    "\n",
    "`pip3 install requests`\n",
    "\n",
    "- 导入 requests\n",
    "\n",
    "`import requests`\n",
    "\n",
    "- demo_requests:https://github.com/seniverse/seniverse-api-demos/blob/master/python/demo-requests.py\n",
    "\n",
    "### json\n",
    "- JSON（JavaScript Object Notation）是一种由道格拉斯·克罗克福特构想设计、轻量级的数据交换语言，以文字为基础，且易于让人阅读。尽管JSON是Javascript的一个子集，但JSON是独立于语言的文本格式，并且采用了类似于C语言家族的一些习惯\n",
    "\n",
    "    - 文档地址：http://pythonguidecn.readthedocs.io/zh/latest/scenarios/json.html\n",
    "    - json用法：https://docs.python.org/3/library/json.html\n",
    "    \n",
    "Json模块提供了四个功能：[dumps、dump、loads、load](http://www.cnblogs.com/bigberg/p/6430095.html)\n",
    "\n",
    "\n",
    "\n"
   ]
  },
  {
   "cell_type": "code",
   "execution_count": 9,
   "metadata": {},
   "outputs": [
    {
     "ename": "NameError",
     "evalue": "name 'KEY' is not defined",
     "output_type": "error",
     "traceback": [
      "\u001b[0;31m---------------------------------------------------------------------------\u001b[0m",
      "\u001b[0;31mNameError\u001b[0m                                 Traceback (most recent call last)",
      "\u001b[0;32m<ipython-input-9-9a7842e9c828>\u001b[0m in \u001b[0;36m<module>\u001b[0;34m()\u001b[0m\n\u001b[1;32m      7\u001b[0m \u001b[0;31m# 通过 parse 将请求参数转为字符串\u001b[0m\u001b[0;34m\u001b[0m\u001b[0;34m\u001b[0m\u001b[0m\n\u001b[1;32m      8\u001b[0m params = parse.urlencode({\n\u001b[0;32m----> 9\u001b[0;31m   \u001b[0;34m'key'\u001b[0m\u001b[0;34m:\u001b[0m \u001b[0mKEY\u001b[0m\u001b[0;34m,\u001b[0m\u001b[0;34m\u001b[0m\u001b[0m\n\u001b[0m\u001b[1;32m     10\u001b[0m   \u001b[0;34m'location'\u001b[0m\u001b[0;34m:\u001b[0m \u001b[0mLOCATION\u001b[0m\u001b[0;34m,\u001b[0m\u001b[0;34m\u001b[0m\u001b[0m\n\u001b[1;32m     11\u001b[0m   \u001b[0;34m'language'\u001b[0m\u001b[0;34m:\u001b[0m \u001b[0mLANGUAGE\u001b[0m\u001b[0;34m,\u001b[0m\u001b[0;34m\u001b[0m\u001b[0m\n",
      "\u001b[0;31mNameError\u001b[0m: name 'KEY' is not defined"
     ]
    }
   ],
   "source": [
    "#另一种导入API的方式\n",
    "\n",
    "# -*- coding: utf-8 -*-\n",
    "\n",
    "from urllib import request, parse\n",
    "\n",
    "# 通过 parse 将请求参数转为字符串\n",
    "params = parse.urlencode({\n",
    "  'key': KEY,\n",
    "  'location': LOCATION,\n",
    "  'language': LANGUAGE,\n",
    "  'unit': UNIT\n",
    "})\n",
    "\n",
    "# 构建请求\n",
    "req = request.Request(url)\n",
    "# 发送请求，读取返回值并进行 UTF-8 编码\n",
    "response = request.urlopen(req, context=gcontext).read().decode('UTF-8')"
   ]
  },
  {
   "cell_type": "code",
   "execution_count": 7,
   "metadata": {},
   "outputs": [
    {
     "name": "stdout",
     "output_type": "stream",
     "text": [
      "{\"results\":[{\"location\":{\"id\":\"WTW3SJ5ZBJUY\",\"name\":\"上海\",\"country\":\"CN\",\"path\":\"上海,上海,中国\",\"timezone\":\"Asia/Shanghai\",\"timezone_offset\":\"+08:00\"},\"now\":{\"text\":\"多云\",\"code\":\"4\",\"temperature\":\"37\"},\"last_update\":\"2017-08-28T15:24:00+08:00\"}]}\n",
      "{'results': [{'location': {'id': 'WTW3SJ5ZBJUY', 'name': '上海', 'country': 'CN', 'path': '上海,上海,中国', 'timezone': 'Asia/Shanghai', 'timezone_offset': '+08:00'}, 'now': {'text': '多云', 'code': '4', 'temperature': '37'}, 'last_update': '2017-08-28T15:24:00+08:00'}]}\n"
     ]
    }
   ],
   "source": [
    "import requests\n",
    "import json\n",
    "result = requests.get('https://api.seniverse.com/v3/weather/now.json', params={\n",
    "        'key': 'vs1u8pv7mvsi6xj8',\n",
    "        'location': '上海',\n",
    "        'language': 'zh-Hans',\n",
    "        'unit': 'c'\n",
    "    }, timeout=20)\n",
    "print(result.text)\n",
    "\n",
    "weather_dict = json.loads(result.text) # 把text转换为 dict\n",
    "print(weather_dict)"
   ]
  },
  {
   "cell_type": "markdown",
   "metadata": {},
   "source": [
    "----"
   ]
  },
  {
   "cell_type": "markdown",
   "metadata": {},
   "source": [
    "## CHANGELOG\n",
    "\n",
    "- 170821 创建\n"
   ]
  },
  {
   "cell_type": "code",
   "execution_count": null,
   "metadata": {
    "collapsed": true
   },
   "outputs": [],
   "source": []
  }
 ],
 "metadata": {
  "kernelspec": {
   "display_name": "Python 3",
   "language": "python",
   "name": "python3"
  },
  "language_info": {
   "codemirror_mode": {
    "name": "ipython",
    "version": 3
   },
   "file_extension": ".py",
   "mimetype": "text/x-python",
   "name": "python",
   "nbconvert_exporter": "python",
   "pygments_lexer": "ipython3",
   "version": "3.6.1"
  }
 },
 "nbformat": 4,
 "nbformat_minor": 2
}
